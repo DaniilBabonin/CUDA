{
  "nbformat": 4,
  "nbformat_minor": 0,
  "metadata": {
    "colab": {
      "name": "Копия блокнота \"Babonin_6133\"",
      "provenance": [],
      "collapsed_sections": [],
      "authorship_tag": "ABX9TyPqQ1mI0Uj8+rLx/+MZpv6X",
      "include_colab_link": true
    },
    "kernelspec": {
      "name": "python3",
      "display_name": "Python 3"
    },
    "accelerator": "GPU"
  },
  "cells": [
    {
      "cell_type": "markdown",
      "metadata": {
        "id": "view-in-github",
        "colab_type": "text"
      },
      "source": [
        "<a href=\"https://colab.research.google.com/github/DaniilBabonin/CUDA/blob/main/%D0%9A%D0%BE%D0%BF%D0%B8%D1%8F_%D0%B1%D0%BB%D0%BE%D0%BA%D0%BD%D0%BE%D1%82%D0%B0_%22Babonin_6133%22.ipynb\" target=\"_parent\"><img src=\"https://colab.research.google.com/assets/colab-badge.svg\" alt=\"Open In Colab\"/></a>"
      ]
    },
    {
      "cell_type": "code",
      "metadata": {
        "id": "E4iZaCbRmp3x"
      },
      "source": [
        "from __future__ import division\n",
        "from numba import cuda, float32\n",
        "import time\n",
        "import numpy as np\n",
        "import math\n",
        "\n",
        "#threads per block\n",
        "TPB = 32\n",
        "size = 100\n",
        "\n",
        "@cuda.jit\n",
        "def gpu(A, B, C):\n",
        "    row, col = cuda.grid(2)\n",
        "    if row < C.shape[0] and col < C.shape[1]:\n",
        "        tmp = 0.\n",
        "        for k in range(A.shape[1]):\n",
        "            tmp += A[row, k] * B[k, col]\n",
        "        C[row, col] = tmp"
      ],
      "execution_count": 32,
      "outputs": []
    },
    {
      "cell_type": "code",
      "metadata": {
        "id": "uJD546Mpm5do",
        "outputId": "46c3a964-18dd-4e4e-9a42-b50c4c94c19e",
        "colab": {
          "base_uri": "https://localhost:8080/"
        }
      },
      "source": [
        "\n",
        "g = 0.\n",
        "c = 0.\n",
        "n = 3\n",
        "size = 100\n",
        "\n",
        "A = np.random.randint(5, size=(size, size))\n",
        "A = A.astype(np.float64)\n",
        "B = np.random.randint(10, size=(size, size))\n",
        "B = B.astype(np.float64)\n",
        "C = np.zeros((size, size))\n",
        "\n",
        "for _ in range(n):\n",
        "\n",
        "  A_c = cuda.to_device(A)\n",
        "  B_c = cuda.to_device(B)\n",
        "  C_c = cuda.device_array((size, size))\n",
        "  \n",
        "  \n",
        "  threadsperblock = (TPB, TPB)\n",
        "  blockspergrid_x = int(math.ceil(A.shape[0] / threadsperblock[1]))\n",
        "  blockspergrid_y = int(math.ceil(B.shape[1] / threadsperblock[0]))\n",
        "  blockspergrid = (blockspergrid_x, blockspergrid_y)\n",
        "\n",
        "  start = time.time()\n",
        "\n",
        "  gpu[blockspergrid, threadsperblock](A_c, B_c, C_c)\n",
        "\n",
        "  g += time.time() - start\n",
        "\n",
        "  C = C_c.copy_to_host()\n",
        "\n",
        "  \n",
        "\n",
        "  start = time.time()\n",
        "  np.dot(A,B)\n",
        "\n",
        "  c += time.time() - start\n",
        "\n",
        "print('|', size,'|',c/n,'|',g/n,'|',c/g,'|' )\n"
      ],
      "execution_count": 40,
      "outputs": [
        {
          "output_type": "stream",
          "text": [
            "| 100 | 0.00014869372049967447 | 0.00046022733052571613 | 0.3230875496460024 |\n"
          ],
          "name": "stdout"
        }
      ]
    },
    {
      "cell_type": "code",
      "metadata": {
        "id": "ZeQM6KU4pLR7",
        "outputId": "33960589-b106-428f-a75e-a4c96ed07006",
        "colab": {
          "base_uri": "https://localhost:8080/"
        }
      },
      "source": [
        "g = 0.\n",
        "c = 0.\n",
        "n = 3\n",
        "size = 500\n",
        "\n",
        "A = np.random.randint(5, size=(size, size))\n",
        "A = A.astype(np.float64)\n",
        "B = np.random.randint(10, size=(size, size))\n",
        "B = B.astype(np.float64)\n",
        "C = np.zeros((size, size))\n",
        "\n",
        "for _ in range(n):\n",
        "\n",
        "  A_c = cuda.to_device(A)\n",
        "  B_c = cuda.to_device(B)\n",
        "  C_c = cuda.device_array((size, size))\n",
        "  \n",
        "  \n",
        "  threadsperblock = (TPB, TPB)\n",
        "  blockspergrid_x = int(math.ceil(A.shape[0] / threadsperblock[1]))\n",
        "  blockspergrid_y = int(math.ceil(B.shape[1] / threadsperblock[0]))\n",
        "  blockspergrid = (blockspergrid_x, blockspergrid_y)\n",
        "\n",
        "  start = time.time()\n",
        "\n",
        "  gpu[blockspergrid, threadsperblock](A_c, B_c, C_c)\n",
        "\n",
        "  g += time.time() - start\n",
        "\n",
        "  C = C_c.copy_to_host()\n",
        "\n",
        "  \n",
        "\n",
        "  start = time.time()\n",
        "  np.dot(A,B)\n",
        "\n",
        "  c += time.time() - start\n",
        "\n",
        "print('|', size,'|',c/n,'|',g/n,'|',c/g,'|' )"
      ],
      "execution_count": 41,
      "outputs": [
        {
          "output_type": "stream",
          "text": [
            "| 500 | 0.00866087277730306 | 0.00048200289408365887 | 17.968507831821928 |\n"
          ],
          "name": "stdout"
        }
      ]
    },
    {
      "cell_type": "code",
      "metadata": {
        "id": "w19tyeQ_pN4w",
        "outputId": "019509b3-91d7-46b6-e0a9-300fe8e19300",
        "colab": {
          "base_uri": "https://localhost:8080/"
        }
      },
      "source": [
        "g = 0.\n",
        "c = 0.\n",
        "n = 3\n",
        "size = 1000\n",
        "\n",
        "A = np.random.randint(5, size=(size, size))\n",
        "A = A.astype(np.float64)\n",
        "B = np.random.randint(10, size=(size, size))\n",
        "B = B.astype(np.float64)\n",
        "C = np.zeros((size, size))\n",
        "\n",
        "for _ in range(n):\n",
        "\n",
        "  A_c = cuda.to_device(A)\n",
        "  B_c = cuda.to_device(B)\n",
        "  C_c = cuda.device_array((size, size))\n",
        "  \n",
        "  \n",
        "  threadsperblock = (TPB, TPB)\n",
        "  blockspergrid_x = int(math.ceil(A.shape[0] / threadsperblock[1]))\n",
        "  blockspergrid_y = int(math.ceil(B.shape[1] / threadsperblock[0]))\n",
        "  blockspergrid = (blockspergrid_x, blockspergrid_y)\n",
        "\n",
        "  start = time.time()\n",
        "\n",
        "  gpu[blockspergrid, threadsperblock](A_c, B_c, C_c)\n",
        "\n",
        "  g += time.time() - start\n",
        "\n",
        "  C = C_c.copy_to_host()\n",
        "\n",
        "  \n",
        "\n",
        "  start = time.time()\n",
        "  np.dot(A,B)\n",
        "\n",
        "  c += time.time() - start\n",
        "\n",
        "print('|', size,'|',c/n,'|',g/n,'|',c/g,'|' )"
      ],
      "execution_count": 42,
      "outputs": [
        {
          "output_type": "stream",
          "text": [
            "| 1000 | 0.06112774213155111 | 0.0005613962809244791 | 108.88519252548132 |\n"
          ],
          "name": "stdout"
        }
      ]
    },
    {
      "cell_type": "code",
      "metadata": {
        "id": "Ud6hEyELpP35",
        "outputId": "f2b75a36-2fd7-4d5b-d9ee-54a97b269280",
        "colab": {
          "base_uri": "https://localhost:8080/"
        }
      },
      "source": [
        "g = 0.\n",
        "c = 0.\n",
        "n = 3\n",
        "size = 2000\n",
        "\n",
        "A = np.random.randint(5, size=(size, size))\n",
        "A = A.astype(np.float64)\n",
        "B = np.random.randint(10, size=(size, size))\n",
        "B = B.astype(np.float64)\n",
        "C = np.zeros((size, size))\n",
        "\n",
        "for _ in range(n):\n",
        "\n",
        "  A_c = cuda.to_device(A)\n",
        "  B_c = cuda.to_device(B)\n",
        "  C_c = cuda.device_array((size, size))\n",
        "  \n",
        "  \n",
        "  threadsperblock = (TPB, TPB)\n",
        "  blockspergrid_x = int(math.ceil(A.shape[0] / threadsperblock[1]))\n",
        "  blockspergrid_y = int(math.ceil(B.shape[1] / threadsperblock[0]))\n",
        "  blockspergrid = (blockspergrid_x, blockspergrid_y)\n",
        "\n",
        "  start = time.time()\n",
        "\n",
        "  gpu[blockspergrid, threadsperblock](A_c, B_c, C_c)\n",
        "\n",
        "  g += time.time() - start\n",
        "\n",
        "  C = C_c.copy_to_host()\n",
        "\n",
        "  \n",
        "\n",
        "  start = time.time()\n",
        "  np.dot(A,B)\n",
        "\n",
        "  c += time.time() - start\n",
        "\n",
        "print('|', size,'|',c/n,'|',g/n,'|',c/g,'|' )"
      ],
      "execution_count": 39,
      "outputs": [
        {
          "output_type": "stream",
          "text": [
            "| 2000 | 0.4670555591583252 | 0.00054931640625 | 850.2486979166666 |\n"
          ],
          "name": "stdout"
        }
      ]
    }
  ]
}